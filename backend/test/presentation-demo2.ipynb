{
 "cells": [
  {
   "cell_type": "code",
   "execution_count": 1,
   "metadata": {},
   "outputs": [
    {
     "name": "stdout",
     "output_type": "stream",
     "text": [
      "Correlation age-gpa: -0.4237704918032787\n",
      "Correlation age-financial_aid: -0.6023380845211302\n",
      "Correlation gpa-financial_aid: 0.3508971505171375\n"
     ]
    }
   ],
   "source": [
    "import requests\n",
    "\n",
    "url = \"https://us-east1-outstanding-map-421217.cloudfunctions.net\"\n",
    "\n",
    "corr_pairs = [[\"age\", \"gpa\"], [\"age\", \"financial_aid\"], [\"gpa\", \"financial_aid\"]]\n",
    "\n",
    "for statistic1, statistic2 in corr_pairs:\n",
    "    response = requests.post(f\"{url}/calculate_correlation\", json={\"statistic1\": statistic1, \"statistic2\": statistic2})\n",
    "\n",
    "    if response.status_code != 200:\n",
    "        print(response.text)\n",
    "    else:\n",
    "        corr = response.json()[\"data\"]\n",
    "        print(f\"Correlation {statistic1}-{statistic2}:\", corr)"
   ]
  }
 ],
 "metadata": {
  "kernelspec": {
   "display_name": "Python 3",
   "language": "python",
   "name": "python3"
  },
  "language_info": {
   "codemirror_mode": {
    "name": "ipython",
    "version": 3
   },
   "file_extension": ".py",
   "mimetype": "text/x-python",
   "name": "python",
   "nbconvert_exporter": "python",
   "pygments_lexer": "ipython3",
   "version": "3.11.8"
  }
 },
 "nbformat": 4,
 "nbformat_minor": 2
}
