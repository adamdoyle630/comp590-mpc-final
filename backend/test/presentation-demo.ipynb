{
 "cells": [
  {
   "cell_type": "code",
   "execution_count": 22,
   "metadata": {},
   "outputs": [],
   "source": [
    "import requests\n",
    "import numpy as np"
   ]
  },
  {
   "cell_type": "code",
   "execution_count": 39,
   "metadata": {},
   "outputs": [
    {
     "name": "stdout",
     "output_type": "stream",
     "text": [
      "{'data_points': 3, 'parties': 3}\n",
      "{'data_points': 3, 'parties': 3}\n",
      "{'data_points': 3, 'parties': 3}\n",
      "{'data_points': 3, 'parties': 3}\n",
      "{'data_points': 3, 'parties': 3}\n",
      "{'data_points': 3, 'parties': 3}\n",
      "{'data_points': 3, 'parties': 3}\n",
      "{'data_points': 3, 'parties': 3}\n",
      "{'data_points': 3, 'parties': 3}\n",
      "{'data_points': 3, 'parties': 3}\n",
      "{'data_points': 3, 'parties': 3}\n",
      "{'data_points': 3, 'parties': 3}\n",
      "{'data_points': 3, 'parties': 3}\n",
      "{'data_points': 3, 'parties': 3}\n",
      "{'data_points': 3, 'parties': 3}\n",
      "{'data_points': 3, 'parties': 3}\n",
      "{'data_points': 3, 'parties': 3}\n",
      "{'data_points': 3, 'parties': 3}\n",
      "{'data_points': 3, 'parties': 3}\n",
      "{'data_points': 3, 'parties': 3}\n"
     ]
    }
   ],
   "source": [
    "# Set the URL for the Cloud Function\n",
    "url = \"https://us-east1-outstanding-map-421217.cloudfunctions.net\"\n",
    "\n",
    "gpas = [3.6, 3.2, 4.0, 3.9, 3.5, 3.1, 2.7, 2.3, 3.3, 2.9, 2.5, 2.1, 2.7, 3.8, 3.4, 3.0, 2.6, 2.2, 1.8, 2.4]\n",
    "ages = [19, 25, 21, 20, 23, 26, 29, 21, 24, 19, 30, 33, 36, 21, 24, 25, 18, 33, 18, 39]\n",
    "financial_aid = [8000, 6500, 5000, 2500, 0, 6000, 4500, 3000, 7000, 5500, 0, 2500, 1000, 8500, 7000, 5500, 4000, 2500, 7000, 0]\n",
    "\n",
    "for i in range(len(ages)):\n",
    "    response = requests.post(f\"{url}/insert_data\", json={\"gpa\": gpas[i], \"age\": ages[i], \"financial_aid\": financial_aid[i]})\n",
    "    if response.status_code != 200:\n",
    "        print(response.text)\n",
    "    else:\n",
    "        print(response.json())"
   ]
  },
  {
   "cell_type": "code",
   "execution_count": 43,
   "metadata": {},
   "outputs": [
    {
     "name": "stdout",
     "output_type": "stream",
     "text": [
      "Mean:\n",
      "Age: 25.2\n",
      "GPA: 2.95\n",
      "Financial Aid: 4300.0\n",
      "\n",
      "Standard Deviation:\n",
      "Age: 6.063002556489648\n",
      "GPA: 0.618465843842649\n",
      "Financial Aid: 2666.4583251946765\n",
      "\n",
      "Correlations: \n",
      "GPA-Age: -0.414693207881317\n",
      "Age-Financial -0.5959765437681372\n",
      "GPA-Financial:  0.3456402698777516\n"
     ]
    }
   ],
   "source": [
    "# TRUE Statistics\n",
    "\n",
    "gpas_array = np.array(gpas)\n",
    "ages_array = np.array(ages)\n",
    "financial_aid_array = np.array(financial_aid)\n",
    "\n",
    "# Calculate mean\n",
    "gpa_mean = np.mean(gpas_array)\n",
    "age_mean = np.mean(ages_array)\n",
    "financial_aid_mean = np.mean(financial_aid_array)\n",
    "print(\"Mean:\")\n",
    "print(\"Age:\", age_mean)\n",
    "print(\"GPA:\", gpa_mean)\n",
    "print(\"Financial Aid:\", financial_aid_mean)\n",
    "\n",
    "# Calculate standard deviation\n",
    "gpa_std = np.std(gpas_array)\n",
    "age_std = np.std(ages_array)\n",
    "financial_aid_std = np.std(financial_aid_array)\n",
    "\n",
    "print(\"\\nStandard Deviation:\")\n",
    "print(\"Age:\", age_std)\n",
    "print(\"GPA:\", gpa_std)\n",
    "print(\"Financial Aid:\", financial_aid_std)\n",
    "\n",
    "# Calculate correlation\n",
    "gpa_age_corr = np.corrcoef(gpas_array, ages_array)\n",
    "gpa_financial_corr = np.corrcoef(gpas_array, financial_aid_array)\n",
    "age_financial_corr = np.corrcoef(ages_array, financial_aid_array)\n",
    "\n",
    "print(\"\\nCorrelations: \")\n",
    "print(\"GPA-Age:\", gpa_age_corr[0][1])\n",
    "print(\"Age-Financial\", age_financial_corr[0][1])\n",
    "print(\"GPA-Financial: \", gpa_financial_corr[0][1])"
   ]
  },
  {
   "cell_type": "code",
   "execution_count": 41,
   "metadata": {},
   "outputs": [
    {
     "name": "stdout",
     "output_type": "stream",
     "text": [
      "Mean age: 25.2\n",
      "Standard Deviation age: 6.06630035524124\n",
      "\n",
      "Mean gpa: 2.9495\n",
      "Standard Deviation gpa: 0.619067847654843\n",
      "\n",
      "Mean financial_aid: 4300.0\n",
      "Standard Deviation financial_aid: 2666.4583251946765\n",
      "\n"
     ]
    }
   ],
   "source": [
    "# MPC information\n",
    "statistics = [\"age\", \"gpa\", \"financial_aid\"]\n",
    "\n",
    "for statistic in statistics:\n",
    "\n",
    "    response = requests.post(f\"{url}/calculate_mean\", json={\"statistic\": statistic})\n",
    "    if response.status_code != 200:\n",
    "        print(response.text)\n",
    "    else:\n",
    "        mean = response.json()[\"mean\"]\n",
    "        if statistic == \"gpa\":\n",
    "            mean /= 100\n",
    "        print(f\"Mean {statistic}:\", mean)\n",
    "\n",
    "    response = requests.post(f\"{url}/calculate_standard_deviation\", json={\"statistic\": statistic})\n",
    "    if response.status_code != 200:\n",
    "        print(response.text)\n",
    "    else:\n",
    "        sd = response.json()[\"sd\"]\n",
    "        if statistic == \"gpa\":\n",
    "            sd /= 100\n",
    "        print(f\"Standard Deviation {statistic}:\", sd)\n",
    "\n",
    "    print()\n",
    "   "
   ]
  }
 ],
 "metadata": {
  "kernelspec": {
   "display_name": "Python 3",
   "language": "python",
   "name": "python3"
  },
  "language_info": {
   "codemirror_mode": {
    "name": "ipython",
    "version": 3
   },
   "file_extension": ".py",
   "mimetype": "text/x-python",
   "name": "python",
   "nbconvert_exporter": "python",
   "pygments_lexer": "ipython3",
   "version": "3.11.8"
  }
 },
 "nbformat": 4,
 "nbformat_minor": 2
}
